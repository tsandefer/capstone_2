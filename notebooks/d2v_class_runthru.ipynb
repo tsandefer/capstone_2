{
 "cells": [
  {
   "cell_type": "code",
   "execution_count": 1,
   "metadata": {},
   "outputs": [],
   "source": [
    "import pandas as pd\n",
    "import numpy as np\n",
    "import matplotlib.pyplot as plt\n",
    "\n",
    "from scipy.stats import ttest_ind\n",
    "\n",
    "from gensim.test.utils import common_texts, get_tmpfile\n",
    "from gensim.models.doc2vec import Doc2Vec, TaggedDocument\n",
    "import spacy\n",
    "from sklearn.model_selection import train_test_split\n",
    "import gensim\n",
    "import os\n",
    "import collections\n",
    "import smart_open\n",
    "import random\n",
    "from sklearn.metrics.pairwise import cosine_similarity\n",
    "from scipy.spatial.distance import cosine, euclidean\n",
    "import re\n",
    "import preprocessing\n",
    "from sklearn.linear_model import LogisticRegression, LinearRegression\n",
    "\n",
    "from segment_data import save_in_pkl\n",
    "from pair_data import read_in_pkl"
   ]
  },
  {
   "cell_type": "code",
   "execution_count": 2,
   "metadata": {},
   "outputs": [],
   "source": [
    "class Doc2VecModeler(object):\n",
    "    '''\n",
    "    Uses Gensim's Doc2Vec model to keep track of different model variations for comparison\n",
    "    '''\n",
    "    def __init__(self, model_name, train_corpus, training_corpus_name,\n",
    "                 vector_size=100, dm=1, min_count=2, epochs=100):\n",
    "        self.model_name = model_name\n",
    "        self.train_corpus = train_corpus\n",
    "        self.n_training_docs = len(self.train_corpus)\n",
    "        self.training_corpus_name = training_corpus_name\n",
    "        self.vector_size = vector_size\n",
    "        self.dm = dm\n",
    "        self.min_count = min_count\n",
    "        self.epochs = epochs\n",
    "\n",
    "        self.inferred_vecs = {'docs': [], 'vecs': []}\n",
    "\n",
    "    def fit_model(self, verbose=False):\n",
    "        model = gensim.models.doc2vec.Doc2Vec(vector_size=self.vector_size,\n",
    "                                              dm=self.dm,\n",
    "                                              min_count=self.min_count,\n",
    "                                              epochs=self.epochs)\n",
    "        model.build_vocab(self.train_corpus)\n",
    "        model.train(self.train_corpus, total_examples=model.corpus_count, epochs=model.epochs)\n",
    "        if verbose:\n",
    "            print(\"Model training complete!\")\n",
    "        self.model = model\n",
    "        # return model\n",
    "\n",
    "    def calc_self_recognition_ability(self):\n",
    "        # ability to recognize a training doc as its own best match\n",
    "        model = self.model\n",
    "        ranks = []\n",
    "        second_ranks = []\n",
    "        for doc_id in range(self.n_training_docs):\n",
    "            doc = self.train_corpus[doc_id].words\n",
    "            inferred_vector = self.model.infer_vector(doc, epochs=self.epochs)\n",
    "\n",
    "            self.inferred_vecs['docs'].append(doc)\n",
    "            self.inferred_vecs['vecs'].append(inferred_vector)\n",
    "\n",
    "            sims = model.docvecs.most_similar([inferred_vector], topn=len(model.docvecs))\n",
    "            #gives you all document tags and their cosine similarity\n",
    "            # Gets its own self-ranking\n",
    "            rank = [docid for docid, sim in sims].index(doc_id)\n",
    "            ranks.append(rank)\n",
    "            second_ranks.append(sims[1])\n",
    "        # Let's count how each document ranks with respect to the training corpus\n",
    "        rank_counter = collections.Counter(ranks)\n",
    "        # Results vary between runs due to random seeding and very small corpus\n",
    "        self.rank_counter = rank_counter\n",
    "        self.n_self_recognized = self.rank_counter[0]\n",
    "        self.self_recog_rate = self.n_self_recognized / self.n_training_docs\n",
    "        self.greater_than_95 = self.self_recog_rate >= 0.95\n",
    "        return self.greater_than_95\n",
    "\n",
    "    def calculate_pair_sims_array(self, pairings_df, is_train=True):\n",
    "#         is_train = pairings_df == train_pairings_df\n",
    "        ref_vecs = []\n",
    "        tate_vecs = []\n",
    "        rt_cs = []\n",
    "        rt_ed = []\n",
    "        for row in pairings_df.index:\n",
    "            ref_doc = pairings_df.loc[row,['ref_pp_text']][0]\n",
    "            tate_doc = pairings_df.loc[row,['tate_pp_text']][0]\n",
    "\n",
    "            inf_ref_vec = self.model.infer_vector(ref_doc, epochs=self.epochs).reshape(-1, 1)\n",
    "            inf_tate_vec = self.model.infer_vector(tate_doc, epochs=self.epochs).reshape(-1, 1)\n",
    "\n",
    "            ref_vecs.append(inf_ref_vec)\n",
    "            tate_vecs.append(inf_tate_vec)\n",
    "\n",
    "            cs = 1 - cosine(inf_ref_vec, inf_tate_vec)\n",
    "            ed = euclidean(inf_ref_vec, inf_tate_vec)\n",
    "\n",
    "            rt_cs.append(cs)\n",
    "            rt_ed.append(ed)\n",
    "\n",
    "\n",
    "        calc_pairings_df = pairings_df.copy()\n",
    "        calc_pairings_df['ref_vecs'] = ref_vecs\n",
    "        calc_pairings_df['tate_vecs'] = tate_vecs\n",
    "        calc_pairings_df['pair_cs'] = rt_cs\n",
    "        calc_pairings_df['pair_ed'] = rt_ed\n",
    "\n",
    "        is_true_pair = calc_pairings_df['is_pair'] == 1\n",
    "\n",
    "        avg_true_pair_cs = calc_pairings_df[is_true_pair]['pair_cs'].mean()\n",
    "        avg_false_pair_cs = calc_pairings_df[~is_true_pair]['pair_cs'].mean()\n",
    "        max_true_pair_cs = calc_pairings_df[is_true_pair]['pair_cs'].max()\n",
    "        max_false_pair_cs = calc_pairings_df[~is_true_pair]['pair_cs'].max()\n",
    "        min_true_pair_cs = calc_pairings_df[is_true_pair]['pair_cs'].min()\n",
    "        min_false_pair_cs = calc_pairings_df[~is_true_pair]['pair_cs'].min()\n",
    "\n",
    "        pair_cs_stats = {'avg_tru':avg_true_pair_cs, 'avg_false':avg_false_pair_cs, 'max_tru':max_true_pair_cs, 'max_false':max_false_pair_cs, 'min_tru':min_true_pair_cs, 'min_false':min_false_pair_cs}\n",
    "\n",
    "        if is_train:\n",
    "            self.tr_pairings_df = calc_pairings_df.copy()\n",
    "            self.train_true_cs = calc_pairings_df[calc_pairings_df['is_pair'] == 1]['pair_cs']\n",
    "            self.train_false_cs = calc_pairings_df[calc_pairings_df['is_pair'] == 0]['pair_cs']\n",
    "            self.train_true_ed = calc_pairings_df[calc_pairings_df['is_pair'] == 1]['pair_ed']\n",
    "            self.train_false_ed = calc_pairings_df[calc_pairings_df['is_pair'] == 0]['pair_ed']\n",
    "            self.tr_pairings_stats = pair_cs_stats\n",
    "        else:\n",
    "            self.tst_pairings_df = calc_pairings_df.copy()\n",
    "            self.test_true_cs = calc_pairings_df[calc_pairings_df['is_pair'] == 1]['pair_cs']\n",
    "            self.test_false_cs = calc_pairings_df[calc_pairings_df['is_pair'] == 0]['pair_cs']\n",
    "            self.test_true_ed = calc_pairings_df[calc_pairings_df['is_pair'] == 1]['pair_ed']\n",
    "            self.test_false_ed = calc_pairings_df[calc_pairings_df['is_pair'] == 0]['pair_ed']\n",
    "            self.tst_pairings_stats = pair_cs_stats\n",
    "\n",
    "    def calc_tt_hypothesis_test(self, for_train_pairings=True, for_cs=True):\n",
    "        pairs_df = self.tr_pairings_df if for_train_pairings else self.tst_pairings_df\n",
    "        sim_col = 'pair_cs' if for_cs else 'pair_ed'\n",
    "        true_sims = pairs_df[pairs_df['is_pair'] == 1][sim_col]\n",
    "        false_sims = pairs_df[pairs_df['is_pair'] == 0][sim_col]\n",
    "        stat, p = ttest_ind(true_sims, false_sims)\n",
    "        if for_train_pairings:\n",
    "            self.train_stat = stat\n",
    "            self.train_p_val = p\n",
    "            self.is_train_significant = p < 0.01\n",
    "        else:\n",
    "            self.test_stat = stat\n",
    "            self.test_p_val = p\n",
    "            self.is_test_significant = p < 0.01\n",
    "\n",
    "    def plot_sim_distribution(self, use_train=True, use_cs=True, save_fig=False):\n",
    "        if use_train:\n",
    "            tru_pairs = self.train_true_cs if use_cs else self.train_true_ed\n",
    "            non_pairs = self.train_false_cs if use_cs else self.train_false_ed\n",
    "        else:\n",
    "            tru_pairs = self.test_true_cs if use_cs else self.test_true_ed\n",
    "            non_pairs = self.test_false_cs if use_cs else self.test_false_ed\n",
    "\n",
    "        fig = plt.figure(figsize=(10,5))\n",
    "        ax = fig.add_subplot(111)\n",
    "\n",
    "        title = \"Distributions of DocVec Similarity - Model:\" + self.model_name\n",
    "\n",
    "        ax.set_title(title, fontsize=18)\n",
    "\n",
    "        plt.hist(non_pairs, bins=100, color='red', alpha=0.3, label='mismatched pairs')\n",
    "        plt.hist(tru_pairs, bins=100, color='blue', alpha=0.3, label='true pairs')\n",
    "\n",
    "        plt.axvline(x=tru_pairs.mean(), c='blue', alpha=0.6, linewidth=3)\n",
    "        plt.axvline(x=non_pairs.mean(), c='red', alpha=0.6, linewidth=3)\n",
    "        # plt.axhline(y=0, c='red', alpha=0.3)\n",
    "\n",
    "        dist = \"Cosine Similarity\" if use_cs else \"Euclidean Distance\"\n",
    "        x_label = dist + ' of Annotation & Lyric DocVectors'\n",
    "\n",
    "        ax.set_xlabel(x_label, fontsize=16)\n",
    "        ax.set_ylabel('Frequency', fontsize=16)\n",
    "\n",
    "        ax.legend(loc='upper center', ncol=2, markerscale=0.5, bbox_to_anchor=(0.5, -0.15))\n",
    "\n",
    "        plt.show()\n",
    "\n",
    "        if save_fig:\n",
    "            shorthand_dist = 'cs' if use_cs else 'ed'\n",
    "            fig.savefig('../data/{0}_dist_{1}.png'.format(shorthand_dist, self.model_name))\n"
   ]
  },
  {
   "cell_type": "code",
   "execution_count": 3,
   "metadata": {},
   "outputs": [],
   "source": [
    "corpus_dict = read_in_pkl('corpus_dict')\n",
    "train_df = read_in_pkl('train_df')\n",
    "test_df = read_in_pkl('test_df')\n",
    "lookup_dicts = read_in_pkl('lookup_dicts')\n",
    "pcorpuses = read_in_pkl('pcorpuses')\n",
    "\n",
    "artists = lookup_dicts[0]\n",
    "doc_rt_train_dict = lookup_dicts[1]\n",
    "doc_rt_test_dict = lookup_dicts[2]\n",
    "rt_doc_train_dict = lookup_dicts[3]\n",
    "rt_doc_test_dict = lookup_dicts[4]\n",
    "rt_in_train_dict = lookup_dicts[5]\n",
    "artist_rt_dict = lookup_dicts[6]\n",
    "rt_artist_dict = lookup_dicts[7]\n",
    "song_rt_dict = lookup_dicts[8]\n",
    "rt_song_dict = lookup_dicts[9]\n",
    "song_id_to_title_dict = lookup_dicts[10]\n",
    "\n",
    "ref_train_pcorpus = pcorpuses[0]\n",
    "ref_test_pcorpus = pcorpuses[1]\n",
    "tate_train_pcorpus = pcorpuses[2]\n",
    "tate_test_pcorpus = pcorpuses[3]\n",
    "rt_train_pcorpus = pcorpuses[4]\n",
    "rt_test_pcorpus = pcorpuses[5]\n",
    "rt_tagged_train_pcorpus = pcorpuses[6]\n",
    "rt_tagged_test_pcorpus = pcorpuses[7]"
   ]
  },
  {
   "cell_type": "code",
   "execution_count": 4,
   "metadata": {},
   "outputs": [],
   "source": [
    "train_pairings_df = read_in_pkl('train_pairings_df')\n",
    "test_pairings_df = read_in_pkl('test_pairings_df')"
   ]
  },
  {
   "cell_type": "code",
   "execution_count": 6,
   "metadata": {},
   "outputs": [
    {
     "name": "stdout",
     "output_type": "stream",
     "text": [
      "Model training complete!\n"
     ]
    }
   ],
   "source": [
    "rt_base = Doc2VecModeler('rt_base', rt_train_pcorpus, 'rt_train')\n",
    "rt_base.fit_model(verbose=True)\n",
    "pass_se = rt_base.calc_self_recognition_ability()\n",
    "\n",
    "rt_base.calculate_pair_sims_array(train_pairings_df, is_train=True)"
   ]
  },
  {
   "cell_type": "code",
   "execution_count": 7,
   "metadata": {},
   "outputs": [],
   "source": [
    "rt_base.calculate_pair_sims_array(test_pairings_df, is_train=False)"
   ]
  },
  {
   "cell_type": "code",
   "execution_count": 8,
   "metadata": {},
   "outputs": [
    {
     "name": "stdout",
     "output_type": "stream",
     "text": [
      "9.253303012825409e-172\n",
      "True\n"
     ]
    }
   ],
   "source": [
    "rt_base.calc_tt_hypothesis_test(for_train_pairings=True, for_cs=True)\n",
    "print(rt_base.train_p_val)\n",
    "print(rt_base.is_train_significant)"
   ]
  },
  {
   "cell_type": "code",
   "execution_count": 9,
   "metadata": {},
   "outputs": [
    {
     "name": "stdout",
     "output_type": "stream",
     "text": [
      "2.3830490375187022e-46\n",
      "True\n"
     ]
    }
   ],
   "source": [
    "rt_base.calc_tt_hypothesis_test(for_train_pairings=False, for_cs=True)\n",
    "print(rt_base.test_p_val)\n",
    "print(rt_base.is_test_significant)"
   ]
  },
  {
   "cell_type": "code",
   "execution_count": 10,
   "metadata": {},
   "outputs": [
    {
     "data": {
      "image/png": "[encoded data removed]",
      "text/plain": [
       "<Figure size 720x360 with 1 Axes>"
      ]
     },
     "metadata": {
      "needs_background": "light"
     },
     "output_type": "display_data"
    }
   ],
   "source": [
    "rt_base.plot_sim_distribution(use_train=True, use_cs=True, save_fig=False)"
   ]
  },
  {
   "cell_type": "code",
   "execution_count": 11,
   "metadata": {},
   "outputs": [
    {
     "data": {
      "image/png": "[encoded data removed]",
      "text/plain": [
       "<Figure size 720x360 with 1 Axes>"
      ]
     },
     "metadata": {
      "needs_background": "light"
     },
     "output_type": "display_data"
    }
   ],
   "source": [
    "rt_base.plot_sim_distribution(use_train=False, use_cs=True, save_fig=False)"
   ]
  },
  {
   "cell_type": "code",
   "execution_count": 13,
   "metadata": {},
   "outputs": [
    {
     "data": {
      "text/plain": [
       "108"
      ]
     },
     "execution_count": 13,
     "metadata": {},
     "output_type": "execute_result"
    }
   ],
   "source": [
    "4*3*3*3"
   ]
  },
  {
   "cell_type": "code",
   "execution_count": 15,
   "metadata": {},
   "outputs": [
    {
     "data": {
      "text/html": [
       "<div>\n",
       "<style scoped>\n",
       "    .dataframe tbody tr th:only-of-type {\n",
       "        vertical-align: middle;\n",
       "    }\n",
       "\n",
       "    .dataframe tbody tr th {\n",
       "        vertical-align: top;\n",
       "    }\n",
       "\n",
       "    .dataframe thead th {\n",
       "        text-align: right;\n",
       "    }\n",
       "</style>\n",
       "<table border=\"1\" class=\"dataframe\">\n",
       "  <thead>\n",
       "    <tr style=\"text-align: right;\">\n",
       "      <th></th>\n",
       "      <th>x</th>\n",
       "      <th>y</th>\n",
       "      <th>z</th>\n",
       "    </tr>\n",
       "  </thead>\n",
       "  <tbody>\n",
       "    <tr>\n",
       "      <th>a</th>\n",
       "      <td>2</td>\n",
       "      <td>3</td>\n",
       "      <td>1</td>\n",
       "    </tr>\n",
       "    <tr>\n",
       "      <th>b</th>\n",
       "      <td>5</td>\n",
       "      <td>9</td>\n",
       "      <td>90</td>\n",
       "    </tr>\n",
       "  </tbody>\n",
       "</table>\n",
       "</div>"
      ],
      "text/plain": [
       "   x  y   z\n",
       "a  2  3   1\n",
       "b  5  9  90"
      ]
     },
     "execution_count": 15,
     "metadata": {},
     "output_type": "execute_result"
    }
   ],
   "source": [
    "x = {'a':{'x':2, 'y':3, 'z':1}, 'b':{'x':5, 'y':9, 'z':90}}\n",
    "pd.DataFrame.from_dict(x, orient='index', columns = ['x', 'y', 'z'])"
   ]
  },
  {
   "cell_type": "code",
   "execution_count": null,
   "metadata": {},
   "outputs": [],
   "source": []
  }
 ],
 "metadata": {
  "kernelspec": {
   "display_name": "Python 3",
   "language": "python",
   "name": "python3"
  },
  "language_info": {
   "codemirror_mode": {
    "name": "ipython",
    "version": 3
   },
   "file_extension": ".py",
   "mimetype": "text/x-python",
   "name": "python",
   "nbconvert_exporter": "python",
   "pygments_lexer": "ipython3",
   "version": "3.7.1"
  }
 },
 "nbformat": 4,
 "nbformat_minor": 2
}
